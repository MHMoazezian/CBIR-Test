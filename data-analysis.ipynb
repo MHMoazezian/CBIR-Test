{
 "cells": [
  {
   "cell_type": "code",
   "execution_count": null,
   "metadata": {},
   "outputs": [],
   "source": [
    "import matplotlib.pyplot as plt\n",
    "\n",
    "import os\n",
    "\n",
    "import numpy as np \n",
    "import pandas as pd\n",
    "\n",
    "import torch\n",
    "from torch.utils.data import Dataset\n",
    "\n",
    "import cv2\n",
    "\n",
    "import xml.etree.ElementTree as ET"
   ]
  },
  {
   "cell_type": "markdown",
   "metadata": {},
   "source": [
    "# FAIR1M --> object detection"
   ]
  },
  {
   "cell_type": "code",
   "execution_count": null,
   "metadata": {},
   "outputs": [],
   "source": [
    "img = cv2.imread('/media/miladmoazezian/3B07B9F56DF9B08D16/CBIR/rs-cbir/Assignment_RSCVML/Assignment/datasets/FAIR1M_partial/Neighborhood/00016.tif')\n",
    "img = cv2.cvtColor(img, cv2.COLOR_BGR2RGB)\n",
    "plt.figure(figsize=(10,10))\n",
    "plt.imshow(img)\n",
    "\n",
    "\n",
    "\n",
    "\n",
    "# img = plt.imread('datasets/FAIR1M_partial/Neighborhood/00015.tif')\n",
    "# plt.figure(figsize=(10,10))\n",
    "# plt.imshow(img)"
   ]
  },
  {
   "cell_type": "code",
   "execution_count": null,
   "metadata": {},
   "outputs": [],
   "source": [
    "img.shape"
   ]
  },
  {
   "cell_type": "markdown",
   "metadata": {},
   "source": [
    "### Airplanes"
   ]
  },
  {
   "cell_type": "code",
   "execution_count": null,
   "metadata": {},
   "outputs": [],
   "source": [
    "n_airplane_fair1m = len(os.listdir('datasets/FAIR1M_partial/Airplane_labels'))\n",
    "\n",
    "airplane_names = []\n",
    "for file in os.listdir('datasets/FAIR1M_partial/Airplane_labels'):\n",
    "\n",
    "    # Parse the XML file\n",
    "    tree = ET.parse('datasets/FAIR1M_partial/Airplane_labels/' + file)\n",
    "    root = tree.getroot()\n",
    "\n",
    "    # Extract the name of the object\n",
    "    object_element = root.findall('.//objects/object')\n",
    "    object_element = [e.find('.//possibleresult').find('name').text for e in object_element]\n",
    "    airplane_names += [airplane_names.append(e) for e in object_element]\n",
    "    print(object_element)\n",
    "    # possibleresult_element = object_element.find('.//possibleresult')\n",
    "    # name = possibleresult_element.find('name').text\n",
    "    # names.append(name)"
   ]
  },
  {
   "cell_type": "code",
   "execution_count": null,
   "metadata": {},
   "outputs": [],
   "source": [
    "len(airplane_names), n_airplane_fair1m"
   ]
  },
  {
   "cell_type": "markdown",
   "metadata": {},
   "source": [
    "### Ships"
   ]
  },
  {
   "cell_type": "code",
   "execution_count": null,
   "metadata": {},
   "outputs": [],
   "source": [
    "n_ship_fair1m = len(os.listdir('datasets/FAIR1M_partial/Ship_labels'))\n",
    "\n",
    "ships_names = []\n",
    "for file in os.listdir('datasets/FAIR1M_partial/Ship_labels'):\n",
    "\n",
    "    # Parse the XML file\n",
    "    tree = ET.parse('datasets/FAIR1M_partial/Ship_labels/' + file)\n",
    "    root = tree.getroot()\n",
    "\n",
    "    # Extract the name of the object\n",
    "    object_element = root.findall('.//objects/object')\n",
    "    object_element = [e.find('.//possibleresult').find('name').text for e in object_element]\n",
    "    print(object_element)\n",
    "\n",
    "    # possibleresult_element = object_element.find('.//possibleresult')\n",
    "    # name = possibleresult_element.find('name').text\n",
    "    # names.append(name)"
   ]
  },
  {
   "cell_type": "markdown",
   "metadata": {},
   "source": [
    "### Neighbourhood"
   ]
  },
  {
   "cell_type": "code",
   "execution_count": null,
   "metadata": {},
   "outputs": [],
   "source": [
    "n_neighborhood_fair1m = len(os.listdir('datasets/FAIR1M_partial/Neighborhood_labels'))\n",
    "\n",
    "neighbourhood_names = []\n",
    "for file in os.listdir('datasets/FAIR1M_partial/Neighborhood_labels'):\n",
    "\n",
    "    # Parse the XML file\n",
    "    tree = ET.parse('datasets/FAIR1M_partial/Neighborhood_labels/' + file)\n",
    "    root = tree.getroot()\n",
    "\n",
    "    # Extract the name of the object\n",
    "    object_element = root.findall('.//objects/object')\n",
    "    object_element = [e.find('.//possibleresult').find('name').text for e in object_element]\n",
    "    print(object_element)\n",
    "\n",
    "    # possibleresult_element = object_element.find('.//possibleresult')\n",
    "    # name = possibleresult_element.find('name').text\n",
    "    # names.append(name)"
   ]
  },
  {
   "cell_type": "code",
   "execution_count": null,
   "metadata": {},
   "outputs": [],
   "source": [
    "class FAIR1M(Dataset):\n",
    "    def __init__(self, path):\n",
    "        self.path = path\n",
    "\n",
    "    def __len__(self):\n",
    "        return len(self.data)\n",
    "\n",
    "    def __getitem__(self, index):\n",
    "        sample = self.data[index]\n",
    "        \n",
    "        return sample\n",
    "\n",
    "# Create an instance of the CustomDataset class\n",
    "data = [1, 2, 3, 4, 5]\n",
    "dataset = CustomDataset(data)"
   ]
  },
  {
   "cell_type": "markdown",
   "metadata": {},
   "source": [
    "# RESISC45 -> [airplane, bridge, ship]"
   ]
  },
  {
   "cell_type": "code",
   "execution_count": null,
   "metadata": {},
   "outputs": [],
   "source": [
    "img = cv2.imread('datasets/RESISC45_partial/airplane/airplane_001.jpg')\n",
    "img = cv2.cvtColor(img, cv2.COLOR_BGR2RGB)\n",
    "plt.figure(figsize=(10,10))\n",
    "plt.imshow(img)"
   ]
  },
  {
   "cell_type": "code",
   "execution_count": null,
   "metadata": {},
   "outputs": [],
   "source": [
    "img.shape"
   ]
  },
  {
   "cell_type": "code",
   "execution_count": null,
   "metadata": {},
   "outputs": [],
   "source": [
    "n_airplane_resisc = len(os.listdir('datasets/RESISC45_partial/airplane'))\n",
    "n_bridge_resisc = len(os.listdir('datasets/RESISC45_partial/bridge'))\n",
    "n_ship_resisc = len(os.listdir('datasets/RESISC45_partial/ship'))"
   ]
  },
  {
   "cell_type": "code",
   "execution_count": null,
   "metadata": {},
   "outputs": [],
   "source": [
    "print('Number of airplane images:', n_airplane_resisc)\n",
    "print('Number of bridge images:', n_bridge_resisc)\n",
    "print('Number of ship images:', n_ship_resisc)"
   ]
  },
  {
   "cell_type": "markdown",
   "metadata": {},
   "source": [
    "# Sentinel2 -> [Ship, noShip]"
   ]
  },
  {
   "cell_type": "code",
   "execution_count": null,
   "metadata": {},
   "outputs": [],
   "source": [
    "img = cv2.imread('datasets/Sentinel2_partial/Ship/0_2_3_id_410.jpg')\n",
    "img = cv2.cvtColor(img, cv2.COLOR_BGR2RGB)\n",
    "plt.figure(figsize=(10,10))\n",
    "plt.imshow(img)"
   ]
  },
  {
   "cell_type": "code",
   "execution_count": null,
   "metadata": {},
   "outputs": [],
   "source": [
    "img.shape"
   ]
  },
  {
   "cell_type": "code",
   "execution_count": null,
   "metadata": {},
   "outputs": [],
   "source": [
    "n_ship_s2 = len(os.listdir('datasets/Sentinel2_partial/Ship'))\n",
    "n_no_ship_s2 = len(os.listdir('datasets/Sentinel2_partial/NoShip'))"
   ]
  },
  {
   "cell_type": "code",
   "execution_count": null,
   "metadata": {},
   "outputs": [],
   "source": [
    "print('Number of ship images:', n_s2_ship)\n",
    "print('Number of no ship images:', n_s2_no_ship)"
   ]
  },
  {
   "cell_type": "markdown",
   "metadata": {},
   "source": [
    "# Dataframe"
   ]
  },
  {
   "cell_type": "code",
   "execution_count": null,
   "metadata": {},
   "outputs": [],
   "source": [
    "df = pd.DataFrame(index=['No Ship', 'S2 Ship', 'Ship', 'Airplane', 'Bridge', 'Neighbourhood'], columns=['No'], data=[n_s2_no_ship, n_s2_ship, n_ship_resisc + n_ship_fair1m, n_airplane_resisc + n_airplane_fair1m, n_bridge_resisc, n_neighborhood_fair1m])"
   ]
  },
  {
   "cell_type": "code",
   "execution_count": null,
   "metadata": {},
   "outputs": [],
   "source": [
    "df"
   ]
  },
  {
   "cell_type": "code",
   "execution_count": null,
   "metadata": {},
   "outputs": [],
   "source": []
  }
 ],
 "metadata": {
  "kernelspec": {
   "display_name": "base",
   "language": "python",
   "name": "python3"
  },
  "language_info": {
   "codemirror_mode": {
    "name": "ipython",
    "version": 3
   },
   "file_extension": ".py",
   "mimetype": "text/x-python",
   "name": "python",
   "nbconvert_exporter": "python",
   "pygments_lexer": "ipython3",
   "version": "3.10.11"
  }
 },
 "nbformat": 4,
 "nbformat_minor": 2
}
